{
 "cells": [
  {
   "cell_type": "code",
   "execution_count": 1,
   "id": "86909c6d",
   "metadata": {},
   "outputs": [
    {
     "name": "stdout",
     "output_type": "stream",
     "text": [
      "Python:Exercises::PHP:exercises:\n"
     ]
    }
   ],
   "source": [
    "#Question1 Write a Python program to replace all occurrences of a space, comma, or dot with a colon.\n",
    "#Sample Text- 'Python Exercises, PHP exercises.'\n",
    "#Expected Output: Python:Exercises::PHP:exercises:\n",
    "def replace_chars_with_colon(text):\n",
    "    replacements = [' ', ',', '.']\n",
    "    for char in replacements:\n",
    "        text = text.replace(char, ':')\n",
    "    return text\n",
    "\n",
    "sample_text = 'Python Exercises, PHP exercises.'\n",
    "result = replace_chars_with_colon(sample_text)\n",
    "print(result)"
   ]
  },
  {
   "cell_type": "code",
   "execution_count": 2,
   "id": "c23c3c97",
   "metadata": {},
   "outputs": [
    {
     "name": "stdout",
     "output_type": "stream",
     "text": [
      "['Apples', 'and', 'are', 'excellent', 'Elephants', 'and', 'ants', 'are', 'animals']\n"
     ]
    }
   ],
   "source": [
    "#Question2 Write a Python program to find all words starting with 'a' or 'e' in a given string.\n",
    "import re\n",
    "\n",
    "def find_words_starting_with_a_or_e(text):\n",
    "    words = re.findall(r'\\b[aeAE]\\w+\\b', text)\n",
    "    return words\n",
    "\n",
    "sample_text = \"Apples and oranges are excellent fruits. Elephants and ants are interesting animals.\"\n",
    "result = find_words_starting_with_a_or_e(sample_text)\n",
    "print(result)"
   ]
  },
  {
   "cell_type": "code",
   "execution_count": 3,
   "id": "cebf735b",
   "metadata": {},
   "outputs": [
    {
     "name": "stdout",
     "output_type": "stream",
     "text": [
      "['This', 'sample', 'sentence', 'with', 'various', 'words', 'different', 'lengths']\n"
     ]
    }
   ],
   "source": [
    "#Question 3- Create a function in python to find all words that are at least 4 characters long in a string. The use of the re.compile() method is mandatory.\n",
    "import re\n",
    "\n",
    "def find_long_words(text):\n",
    "    pattern = re.compile(r'\\b\\w{4,}\\b')\n",
    "    words = pattern.findall(text)\n",
    "    return words\n",
    "\n",
    "sample_text = \"This is a sample sentence with various words of different lengths.\"\n",
    "result = find_long_words(sample_text)\n",
    "print(result)"
   ]
  },
  {
   "cell_type": "code",
   "execution_count": 4,
   "id": "5362f17c",
   "metadata": {},
   "outputs": [
    {
     "name": "stdout",
     "output_type": "stream",
     "text": [
      "Three-character words: []\n",
      "Four-character words: ['This', 'test', 'with']\n",
      "Five-character words: ['words']\n"
     ]
    }
   ],
   "source": [
    "#Question 4- Create a function in python to find all three, four, and five character words in a string. The use of the re.compile() method is mandatory.\n",
    "import re\n",
    "\n",
    "def find_words_of_length(text):\n",
    "    # Compile regular expression patterns for three, four, and five character words\n",
    "    three_char_pattern = re.compile(r'\\b\\w{3}\\b')\n",
    "    four_char_pattern = re.compile(r'\\b\\w{4}\\b')\n",
    "    five_char_pattern = re.compile(r'\\b\\w{5}\\b')\n",
    "    \n",
    "    # Find words of each length using the compiled patterns\n",
    "    three_char_words = three_char_pattern.findall(text)\n",
    "    four_char_words = four_char_pattern.findall(text)\n",
    "    five_char_words = five_char_pattern.findall(text)\n",
    "    \n",
    "    return {\n",
    "        \"three_char_words\": three_char_words,\n",
    "        \"four_char_words\": four_char_words,\n",
    "        \"five_char_words\": five_char_words\n",
    "    }\n",
    "\n",
    "# Test the function\n",
    "input_text = \"This is a test string with words of various lengths.\"\n",
    "result = find_words_of_length(input_text)\n",
    "print(\"Three-character words:\", result[\"three_char_words\"])\n",
    "print(\"Four-character words:\", result[\"four_char_words\"])\n",
    "print(\"Five-character words:\", result[\"five_char_words\"])"
   ]
  },
  {
   "cell_type": "code",
   "execution_count": 8,
   "id": "18c6d7f9",
   "metadata": {},
   "outputs": [
    {
     "name": "stdout",
     "output_type": "stream",
     "text": [
      "example \n",
      "hr@fliprobo \n",
      "github \n",
      "Hello \n",
      "Data \n"
     ]
    }
   ],
   "source": [
    "#Question 5 Create a function in Python to remove the parenthesis in a list of strings. The use of the re.compile() method is mandatory.\n",
    "#Sample Text: [\"example (.com)\", \"hr@fliprobo (.com)\", \"github (.com)\", \"Hello (Data Science World)\", \"Data (Scientist)\"]\n",
    "#Expected Output:\n",
    "#example.com\n",
    "#hr@fliprobo.com\n",
    "#github.com\n",
    "#Hello Data Science World\n",
    "#Data Scientist\n",
    "import re\n",
    "\n",
    "def remove_parentheses(strings):\n",
    "    pattern = re.compile(r'\\([^)]*\\)')\n",
    "    result = []\n",
    "\n",
    "    for string in strings:\n",
    "        modified_string = pattern.sub('', string)\n",
    "        result.append(modified_string)\n",
    "\n",
    "    return result\n",
    "\n",
    "sample_text = [\n",
    "    \"example (.com)\",\n",
    "    \"hr@fliprobo (.com)\",\n",
    "    \"github (.com)\",\n",
    "    \"Hello (Data Science World)\",\n",
    "    \"Data (Scientist)\"\n",
    "]\n",
    "\n",
    "output = remove_parentheses(sample_text)\n",
    "for item in output:\n",
    "    print(item)\n"
   ]
  },
  {
   "cell_type": "code",
   "execution_count": 11,
   "id": "51eb0675",
   "metadata": {},
   "outputs": [
    {
     "name": "stdout",
     "output_type": "stream",
     "text": [
      "example\n",
      "hr@fliprobo\n",
      "github\n",
      "Hello\n",
      "Data\n"
     ]
    }
   ],
   "source": [
    "#Question 6 Write a python program to remove the parenthesis area from the text stored in the text file using Regular Expression.\n",
    "#Sample Text: [\"example (.com)\", \"hr@fliprobo (.com)\", \"github (.com)\", \"Hello (Data Science World)\", \"Data (Scientist)\"]\n",
    "#Expected Output: [\"example\", \"hr@fliprobo\", \"github\", \"Hello\", \"Data\"]\n",
    "#Note- Store given sample text in the text file and then to remove the parenthesis area from the text.\n",
    "import re\n",
    "items = [\"example (.com)\", \"hr@fliprobo (.com)\", \"github (.com)\", \"Hello (Data Science World)\", \"Data (Scientist)\"]\n",
    "for item in items:\n",
    "    print(re.sub(r\" ?\\([^)]+\\)\", \"\", item))"
   ]
  },
  {
   "cell_type": "code",
   "execution_count": 12,
   "id": "882cb639",
   "metadata": {},
   "outputs": [
    {
     "name": "stdout",
     "output_type": "stream",
     "text": [
      "['Importance', 'Of', 'Regular', 'Expressions', 'In', 'Python']\n"
     ]
    }
   ],
   "source": [
    "#Question 7 Write a regular expression in Python to split a string into uppercase letters.\n",
    "#Sample text: “ImportanceOfRegularExpressionsInPython”\n",
    "#Expected Output: [‘Importance’, ‘Of’, ‘Regular’, ‘Expression’, ‘In’, ‘Python’]\n",
    "import re\n",
    "\n",
    "sample_text = \"ImportanceOfRegularExpressionsInPython\"\n",
    "result = re.findall(r'[A-Z][a-z]*', sample_text)\n",
    "\n",
    "print(result)"
   ]
  },
  {
   "cell_type": "code",
   "execution_count": 13,
   "id": "5e7e1ff3",
   "metadata": {},
   "outputs": [
    {
     "name": "stdout",
     "output_type": "stream",
     "text": [
      "RegularExpression 1IsAn 2ImportantTopic 3InPython\n"
     ]
    }
   ],
   "source": [
    "#Question 8 Create a function in python to insert spaces between words starting with numbers.\n",
    "#Sample Text: “RegularExpression1IsAn2ImportantTopic3InPython\"\n",
    "#Expected Output: RegularExpression 1IsAn 2ImportantTopic 3InPython\n",
    "import re\n",
    "\n",
    "def insert_spaces(text):\n",
    "    modified_text = re.sub(r'(?<=\\D)(?=\\d)', ' ', text)\n",
    "    return modified_text\n",
    "\n",
    "sample_text = \"RegularExpression1IsAn2ImportantTopic3InPython\"\n",
    "output = insert_spaces(sample_text)\n",
    "print(output)"
   ]
  },
  {
   "cell_type": "code",
   "execution_count": 14,
   "id": "8cc0f244",
   "metadata": {},
   "outputs": [
    {
     "name": "stdout",
     "output_type": "stream",
     "text": [
      "RegularExpression 1 IsAn 2 ImportantTopic 3 InPython\n"
     ]
    }
   ],
   "source": [
    "#Question 9 Create a function in python to insert spaces between words starting with capital letters or with numbers.\n",
    "#Sample Text: “RegularExpression1IsAn2ImportantTopic3InPython\"\n",
    "#Expected Output:  RegularExpression 1 IsAn 2 ImportantTopic 3 InPython\n",
    "import re\n",
    "\n",
    "def insert_spaces(text):\n",
    "    modified_text = re.sub(r'(?<=[A-Z0-9])(?=[A-Z])|(?<=[A-Za-z0-9])(?=\\d)', ' ', text)\n",
    "    return modified_text\n",
    "\n",
    "sample_text = \"RegularExpression1IsAn2ImportantTopic3InPython\"\n",
    "output = insert_spaces(sample_text)\n",
    "print(output)"
   ]
  },
  {
   "cell_type": "code",
   "execution_count": 19,
   "id": "63fa0298",
   "metadata": {},
   "outputs": [
    {
     "name": "stdout",
     "output_type": "stream",
     "text": [
      "['xyz@domain.com', 'xyz.abc@sdomain.domain.com', 'hr@fliprobo.com']\n"
     ]
    }
   ],
   "source": [
    "#Question 10 Write a python program to extract email address from the text stored in the text file using Regular Expression.\n",
    "#Sample Text- Hello my name is Data Science and my email address is xyz@domain.com and alternate email address is xyz.abc@sdomain.domain.com. \n",
    "#Please contact us at hr@fliprobo.com for further information. \n",
    "#Expected Output: \n",
    "#['xyz@domain.com', 'xyz.abc@sdomain.domain.com']\n",
    "#['hr@fliprobo.com']\n",
    "import re\n",
    "text = \"Hello my name is Data Science and my email address is xyz@domain.com and alternate email address is xyz.abc@sdomain.domain.com.\"+\\\n",
    "        \"Please contact us at hr@fliprobo.com for further information.\"\n",
    "emails = re.findall(r\"[a-z0-9\\.\\-+_]+@[a-z0-9\\.\\-+_]+\\.[a-z]+\", text)\n",
    "print(emails)"
   ]
  },
  {
   "cell_type": "code",
   "execution_count": 20,
   "id": "198c5bf6",
   "metadata": {},
   "outputs": [
    {
     "name": "stdout",
     "output_type": "stream",
     "text": [
      "\"Valid_String123\" is a valid string.\n",
      "\"Another_Valid_String\" is a valid string.\n",
      "\"12345\" is a valid string.\n",
      "\"_underscore_only\" is a valid string.\n",
      "\"Invalid String\" is not a valid string.\n",
      "\"contains#special$characters\" is not a valid string.\n"
     ]
    }
   ],
   "source": [
    "#Question 11 Write a Python program to match a string that contains only upper and lowercase letters, numbers, and underscores.\n",
    "import re\n",
    "\n",
    "def is_valid_string(input_string):\n",
    "    pattern = r'^[a-zA-Z0-9_]+$'\n",
    "    return re.match(pattern, input_string) is not None\n",
    "\n",
    "# Test cases\n",
    "test_strings = [\n",
    "    \"Valid_String123\",\n",
    "    \"Another_Valid_String\",\n",
    "    \"12345\",\n",
    "    \"_underscore_only\",\n",
    "    \"Invalid String\",\n",
    "    \"contains#special$characters\"\n",
    "]\n",
    "\n",
    "for test_string in test_strings:\n",
    "    if is_valid_string(test_string):\n",
    "        print(f'\"{test_string}\" is a valid string.')\n",
    "    else:\n",
    "        print(f'\"{test_string}\" is not a valid string.')"
   ]
  },
  {
   "cell_type": "code",
   "execution_count": 22,
   "id": "d71eec77",
   "metadata": {},
   "outputs": [
    {
     "name": "stdout",
     "output_type": "stream",
     "text": [
      "\"12345_example\" starts with the number 123.\n",
      "\"456_hello\" does not start with the number 123.\n",
      "\"789_world\" does not start with the number 123.\n",
      "\"987_wrong\" does not start with the number 123.\n",
      "\"hello_123\" does not start with the number 123.\n",
      "\"not_a_number\" does not start with the number 123.\n"
     ]
    }
   ],
   "source": [
    "#Question 12 Write a Python program where a string will start with a specific number.\n",
    "def starts_with_number(input_string, number):\n",
    "    return input_string.startswith(str(number))\n",
    "\n",
    "# Test cases\n",
    "test_strings = [\n",
    "    \"12345_example\",\n",
    "    \"456_hello\",\n",
    "    \"789_world\",\n",
    "    \"987_wrong\",\n",
    "    \"hello_123\",\n",
    "    \"not_a_number\"\n",
    "]\n",
    "\n",
    "specific_number = 123\n",
    "\n",
    "for test_string in test_strings:\n",
    "    if starts_with_number(test_string, specific_number):\n",
    "        print(f'\"{test_string}\" starts with the number {specific_number}.')\n",
    "    else:\n",
    "        print(f'\"{test_string}\" does not start with the number {specific_number}.')"
   ]
  },
  {
   "cell_type": "code",
   "execution_count": 23,
   "id": "5e3195a4",
   "metadata": {},
   "outputs": [
    {
     "name": "stdout",
     "output_type": "stream",
     "text": [
      "Original IP: 192.168.001.001 => Cleaned IP: 192.168.1.1\n",
      "Original IP: 010.020.030.040 => Cleaned IP: 10.20.30.40\n",
      "Original IP: 005.005.005.005 => Cleaned IP: 5.5.5.5\n",
      "Original IP: 000.000.000.000 => Cleaned IP: 0.0.0.0\n",
      "Original IP: 255.255.255.255 => Cleaned IP: 255.255.255.255\n"
     ]
    }
   ],
   "source": [
    "#Question 13 Write a Python program to remove leading zeros from an IP address\n",
    "def remove_leading_zeros(ip_address):\n",
    "    parts = ip_address.split('.')\n",
    "    cleaned_parts = [str(int(part)) for part in parts]\n",
    "    cleaned_ip = '.'.join(cleaned_parts)\n",
    "    return cleaned_ip\n",
    "\n",
    "# Test cases\n",
    "test_ip_addresses = [\n",
    "    \"192.168.001.001\",\n",
    "    \"010.020.030.040\",\n",
    "    \"005.005.005.005\",\n",
    "    \"000.000.000.000\",\n",
    "    \"255.255.255.255\"\n",
    "]\n",
    "\n",
    "for ip_address in test_ip_addresses:\n",
    "    cleaned_ip = remove_leading_zeros(ip_address)\n",
    "    print(f'Original IP: {ip_address} => Cleaned IP: {cleaned_ip}')"
   ]
  },
  {
   "cell_type": "code",
   "execution_count": 24,
   "id": "7d78ecd3",
   "metadata": {},
   "outputs": [
    {
     "name": "stdout",
     "output_type": "stream",
     "text": [
      "August 15th 1947\n"
     ]
    }
   ],
   "source": [
    "#Question 14 Write a regular expression in python to match a date string in the form of Month name followed by day number and year stored in a text file.\n",
    "#Sample text :  ' On August 15th 1947 that India was declared independent from British colonialism, and the reins of control were handed over to the leaders of the Country’.\n",
    "#Expected Output- August 15th 1947\n",
    "#Note- Store given sample text in the text file and then extract the date string asked format.\n",
    "import re\n",
    "\n",
    "text = \"On August 15th 1947 that India was declared independent from British colonialism, and the reins of control were handed over to the leaders of the Country.\"\n",
    "\n",
    "pattern = r'\\b(?:January|February|March|April|May|June|July|August|September|October|November|December)\\s+\\d{1,2}(?:st|nd|rd|th)?\\s+\\d{4}\\b'\n",
    "\n",
    "matches = re.findall(pattern, text)\n",
    "for match in matches:\n",
    "    print(match)"
   ]
  },
  {
   "cell_type": "code",
   "execution_count": 25,
   "id": "41012680",
   "metadata": {},
   "outputs": [
    {
     "name": "stdout",
     "output_type": "stream",
     "text": [
      "Found words: fox, dog\n"
     ]
    }
   ],
   "source": [
    "#Question 15 Write a Python program to search some literals strings in a string. \n",
    "#Sample text : 'The quick brown fox jumps over the lazy dog.'\n",
    "def search_words(text, words):\n",
    "    found_words = []\n",
    "    for word in words:\n",
    "        if word in text:\n",
    "            found_words.append(word)\n",
    "    return found_words\n",
    "\n",
    "sample_text = 'The quick brown fox jumps over the lazy dog.'\n",
    "searched_words = ['fox', 'dog', 'horse']\n",
    "\n",
    "found_words = search_words(sample_text, searched_words)\n",
    "\n",
    "if found_words:\n",
    "    print(\"Found words:\", ', '.join(found_words))\n",
    "else:\n",
    "    print(\"No words found.\")"
   ]
  },
  {
   "cell_type": "code",
   "execution_count": 26,
   "id": "21bad91f",
   "metadata": {},
   "outputs": [
    {
     "name": "stdout",
     "output_type": "stream",
     "text": [
      "The word 'fox' was found at the following locations:\n",
      "Position: 16, Text: fox\n"
     ]
    }
   ],
   "source": [
    "#Question 16 Write a Python program to search a literals string in a string and also find the location within the original string where the pattern occurs\n",
    "#Sample text : 'The quick brown fox jumps over the lazy dog.'\n",
    "#Searched words : 'fox'\n",
    "def find_word_locations(text, word):\n",
    "    word_locations = []\n",
    "    index = -1\n",
    "    while True:\n",
    "        index = text.find(word, index + 1)\n",
    "        if index == -1:\n",
    "            break\n",
    "        word_locations.append(index)\n",
    "    \n",
    "    return word_locations\n",
    "\n",
    "sample_text = 'The quick brown fox jumps over the lazy dog.'\n",
    "searched_word = 'fox'\n",
    "\n",
    "word_locations = find_word_locations(sample_text, searched_word)\n",
    "\n",
    "if word_locations:\n",
    "    print(f\"The word '{searched_word}' was found at the following locations:\")\n",
    "    for location in word_locations:\n",
    "        print(f\"Position: {location}, Text: {sample_text[location:location + len(searched_word)]}\")\n",
    "else:\n",
    "    print(f\"The word '{searched_word}' was not found in the text.\")"
   ]
  },
  {
   "cell_type": "code",
   "execution_count": 27,
   "id": "870f9104",
   "metadata": {},
   "outputs": [
    {
     "name": "stdout",
     "output_type": "stream",
     "text": [
      "The pattern 'exercises' was found at the following positions:\n",
      "Position: 7, Substring: exercises\n",
      "Position: 22, Substring: exercises\n",
      "Position: 36, Substring: exercises\n"
     ]
    }
   ],
   "source": [
    "#Question 17 Write a Python program to find the substrings within a string.\n",
    "#Sample text : 'Python exercises, PHP exercises, C# exercises'\n",
    "#Pattern : 'exercises'.\n",
    "def find_substrings(text, pattern):\n",
    "    substring_positions = []\n",
    "    index = -1\n",
    "    while True:\n",
    "        index = text.find(pattern, index + 1)\n",
    "        if index == -1:\n",
    "            break\n",
    "        substring_positions.append(index)\n",
    "    \n",
    "    return substring_positions\n",
    "\n",
    "sample_text = 'Python exercises, PHP exercises, C# exercises'\n",
    "searched_pattern = 'exercises'\n",
    "\n",
    "substring_positions = find_substrings(sample_text, searched_pattern)\n",
    "\n",
    "if substring_positions:\n",
    "    print(f\"The pattern '{searched_pattern}' was found at the following positions:\")\n",
    "    for position in substring_positions:\n",
    "        print(f\"Position: {position}, Substring: {sample_text[position:position + len(searched_pattern)]}\")\n",
    "else:\n",
    "    print(f\"The pattern '{searched_pattern}' was not found in the text.\")"
   ]
  },
  {
   "cell_type": "code",
   "execution_count": 28,
   "id": "b8ca941a",
   "metadata": {},
   "outputs": [
    {
     "name": "stdout",
     "output_type": "stream",
     "text": [
      "The substring 'exercises' was found at the following positions:\n",
      "Start: 7, End: 16, Substring: exercises\n",
      "Start: 22, End: 31, Substring: exercises\n",
      "Start: 36, End: 45, Substring: exercises\n"
     ]
    }
   ],
   "source": [
    "#Question 18 Write a Python program to find the occurrence and position of the substrings within a string.\n",
    "def find_substring_occurrences(text, substring):\n",
    "    substring_occurrences = []\n",
    "    index = -1\n",
    "    while True:\n",
    "        index = text.find(substring, index + 1)\n",
    "        if index == -1:\n",
    "            break\n",
    "        substring_occurrences.append((index, index + len(substring)))\n",
    "    \n",
    "    return substring_occurrences\n",
    "\n",
    "sample_text = 'Python exercises, PHP exercises, C# exercises'\n",
    "searched_substring = 'exercises'\n",
    "\n",
    "substring_occurrences = find_substring_occurrences(sample_text, searched_substring)\n",
    "\n",
    "if substring_occurrences:\n",
    "    print(f\"The substring '{searched_substring}' was found at the following positions:\")\n",
    "    for start, end in substring_occurrences:\n",
    "        print(f\"Start: {start}, End: {end}, Substring: {sample_text[start:end]}\")\n",
    "else:\n",
    "    print(f\"The substring '{searched_substring}' was not found in the text.\")"
   ]
  },
  {
   "cell_type": "code",
   "execution_count": 29,
   "id": "410a28b7",
   "metadata": {},
   "outputs": [
    {
     "name": "stdout",
     "output_type": "stream",
     "text": [
      "Enter a date in yyyy-mm-dd format: 2023-08-21\n",
      "Converted date: 21-08-2023\n"
     ]
    }
   ],
   "source": [
    "#Question 19 Write a Python program to convert a date of yyyy-mm-dd format to dd-mm-yyyy format.\n",
    "def convert_date(date_str):\n",
    "    try:\n",
    "        # Split the date string into year, month, and day\n",
    "        year, month, day = date_str.split('-')\n",
    "        \n",
    "        # Format the date in the desired format\n",
    "        new_date = f\"{day}-{month}-{year}\"\n",
    "        \n",
    "        return new_date\n",
    "    except ValueError:\n",
    "        return \"Invalid date format. Please use yyyy-mm-dd.\"\n",
    "\n",
    "# Get input from the user\n",
    "input_date = input(\"Enter a date in yyyy-mm-dd format: \")\n",
    "\n",
    "# Convert and display the date in the new format\n",
    "converted_date = convert_date(input_date)\n",
    "print(\"Converted date:\", converted_date)"
   ]
  },
  {
   "cell_type": "code",
   "execution_count": 30,
   "id": "5d47fef5",
   "metadata": {},
   "outputs": [
    {
     "name": "stdout",
     "output_type": "stream",
     "text": [
      "['12.34', '25.6']\n"
     ]
    }
   ],
   "source": [
    "#Question 20 Create a function in python to find all decimal numbers with a precision of 1 or 2 in a string. The use of the re.compile() method is mandatory.\n",
    "import re\n",
    "\n",
    "def find_decimal_numbers(text):\n",
    "    pattern = re.compile(r'\\b\\d+\\.\\d{1,2}\\b')\n",
    "    decimal_numbers = pattern.findall(text)\n",
    "    return decimal_numbers\n",
    "\n",
    "# Example usage\n",
    "input_text = \"The price is $12.34 and the temperature is 25.6°C. The value is 123.456.\"\n",
    "result = find_decimal_numbers(input_text)\n",
    "print(result)  # Output: ['12.34', '25.6']"
   ]
  },
  {
   "cell_type": "code",
   "execution_count": 36,
   "id": "3ffb795e",
   "metadata": {},
   "outputs": [
    {
     "name": "stdout",
     "output_type": "stream",
     "text": [
      "Enter a string: 25\n",
      "Numbers and their positions:\n",
      "Number: 25, Position: 0\n"
     ]
    }
   ],
   "source": [
    "#Question 21 Write a Python program to separate and print the numbers and their position of a given string.\n",
    "def extract_numbers_with_positions(input_string):\n",
    "    numbers_with_positions = []\n",
    "    words = input_string.split()\n",
    "    \n",
    "    for position, word in enumerate(words):\n",
    "        if word.isdigit():\n",
    "            numbers_with_positions.append((int(word), position))\n",
    "    \n",
    "    return numbers_with_positions\n",
    "\n",
    "input_string = input(\"Enter a string: \")\n",
    "numbers_with_positions = extract_numbers_with_positions(input_string)\n",
    "\n",
    "if numbers_with_positions:\n",
    "    print(\"Numbers and their positions:\")\n",
    "    for number, position in numbers_with_positions:\n",
    "        print(f\"Number: {number}, Position: {position}\")\n",
    "else:\n",
    "    print(\"No numbers found in the input string.\")"
   ]
  },
  {
   "cell_type": "code",
   "execution_count": 37,
   "id": "5bf49826",
   "metadata": {},
   "outputs": [
    {
     "name": "stdout",
     "output_type": "stream",
     "text": [
      "Maximum value: 950\n"
     ]
    }
   ],
   "source": [
    "#Question 22 Write a regular expression in python program to extract maximum/largest numeric value from a string.\n",
    "#Sample Text:  'My marks in each semester are: 947, 896, 926, 524, 734, 950, 642'\n",
    "#Expected Output: 950\n",
    "import re\n",
    "\n",
    "sample_text = 'My marks in each semester are: 947, 896, 926, 524, 734, 950, 642'\n",
    "\n",
    "# Find all numeric values using regular expression\n",
    "numeric_values = re.findall(r'\\d+', sample_text)\n",
    "\n",
    "# Convert the numeric values to integers and find the maximum\n",
    "max_value = max(map(int, numeric_values))\n",
    "\n",
    "print(\"Maximum value:\", max_value)\n"
   ]
  },
  {
   "cell_type": "code",
   "execution_count": 38,
   "id": "405a81f3",
   "metadata": {},
   "outputs": [
    {
     "name": "stdout",
     "output_type": "stream",
     "text": [
      "Regular Expression Is An Important Topic In Python\n"
     ]
    }
   ],
   "source": [
    "#Question 23 Create a function in python to insert spaces between words starting with capital letters.\n",
    "#Sample Text: “RegularExpressionIsAnImportantTopicInPython\"\n",
    "#Expected Output: Regular Expression Is An Important Topic In Python\n",
    "import re\n",
    "\n",
    "def insert_spaces_between_capital_words(text):\n",
    "    # Use regular expression to find words starting with capital letters\n",
    "    words = re.findall(r'[A-Z][a-z]*', text)\n",
    "    \n",
    "    # Join the words with spaces and convert to title case\n",
    "    formatted_text = ' '.join(words).title()\n",
    "    \n",
    "    return formatted_text\n",
    "\n",
    "sample_text = \"RegularExpressionIsAnImportantTopicInPython\"\n",
    "formatted_output = insert_spaces_between_capital_words(sample_text)\n",
    "print(formatted_output)"
   ]
  },
  {
   "cell_type": "code",
   "execution_count": 39,
   "id": "8f6f3385",
   "metadata": {},
   "outputs": [
    {
     "name": "stdout",
     "output_type": "stream",
     "text": [
      "['Aabc', 'Xyz', 'Abc', 'Def', 'Ghi', 'Mno']\n"
     ]
    }
   ],
   "source": [
    "#Question 24 Python regex to find sequences of one upper case letter followed by lower case letters\n",
    "import re\n",
    "\n",
    "pattern = r'[A-Z][a-z]+'\n",
    "text = \"Aabc Xyz AbcDefGhi jklMnoP\"\n",
    "\n",
    "matches = re.findall(pattern, text)\n",
    "print(matches)"
   ]
  },
  {
   "cell_type": "code",
   "execution_count": 40,
   "id": "f82b5451",
   "metadata": {},
   "outputs": [
    {
     "name": "stdout",
     "output_type": "stream",
     "text": [
      "Hello world\n"
     ]
    }
   ],
   "source": [
    "#Question 25 Write a Python program to remove continuous duplicate words from Sentence using Regular Expression.\n",
    "#Sample Text: \"Hello hello world world\"\n",
    "#Expected Output: Hello hello world\n",
    "import re\n",
    "\n",
    "def remove_continuous_duplicates(sentence):\n",
    "    pattern = r'\\b(\\w+)(?:\\s+\\1)+\\b'\n",
    "    result = re.sub(pattern, r'\\1', sentence, flags=re.IGNORECASE)\n",
    "    return result\n",
    "\n",
    "sample_text = \"Hello hello world world\"\n",
    "output = remove_continuous_duplicates(sample_text)\n",
    "print(output)"
   ]
  },
  {
   "cell_type": "code",
   "execution_count": 41,
   "id": "f804ec1a",
   "metadata": {},
   "outputs": [
    {
     "name": "stdout",
     "output_type": "stream",
     "text": [
      "'hello123' is valid.\n",
      "'world456' is valid.\n",
      "'test!' is not valid.\n",
      "'12345' is valid.\n",
      "'regex101' is valid.\n",
      "'abc_' is not valid.\n",
      "'_def' is valid.\n"
     ]
    }
   ],
   "source": [
    "#Question 26 Write a python program using RegEx to accept string ending with alphanumeric character.\n",
    "import re\n",
    "\n",
    "def validate_string(input_string):\n",
    "    pattern = r\".*[a-zA-Z0-9]$\"\n",
    "    \n",
    "    if re.match(pattern, input_string):\n",
    "        return True\n",
    "    else:\n",
    "        return False\n",
    "\n",
    "# Test cases\n",
    "test_strings = [\"hello123\", \"world456\", \"test!\", \"12345\", \"regex101\", \"abc_\", \"_def\"]\n",
    "for string in test_strings:\n",
    "    if validate_string(string):\n",
    "        print(f\"'{string}' is valid.\")\n",
    "    else:\n",
    "        print(f\"'{string}' is not valid.\")"
   ]
  },
  {
   "cell_type": "code",
   "execution_count": 42,
   "id": "aa6486b2",
   "metadata": {},
   "outputs": [
    {
     "name": "stdout",
     "output_type": "stream",
     "text": [
      "['#Doltiwal', '#xyzabc', '#Demonetization']\n"
     ]
    }
   ],
   "source": [
    "#Question 27 Write a python program using RegEx to extract the hashtags.\n",
    "#Sample Text:  \"\"\"RT @kapil_kausik: #Doltiwal I mean #xyzabc is \"hurt\" by #Demonetization as the same has rendered USELESS <ed><U+00A0><U+00BD><ed><U+00B1><U+0089> \"acquired funds\" No wo\"\"\"\n",
    "#Expected Output: ['#Doltiwal', '#xyzabc', '#Demonetization']\n",
    "import re\n",
    "\n",
    "sample_text = \"\"\"RT @kapil_kausik: #Doltiwal I mean #xyzabc is \"hurt\" by #Demonetization as the same has rendered USELESS <ed><U+00A0><U+00BD><ed><U+00B1><U+0089> \"acquired funds\" No wo\"\"\"\n",
    "\n",
    "hashtags = re.findall(r'#\\w+', sample_text)\n",
    "\n",
    "print(hashtags)"
   ]
  },
  {
   "cell_type": "code",
   "execution_count": 43,
   "id": "31b9cfcd",
   "metadata": {},
   "outputs": [
    {
     "name": "stdout",
     "output_type": "stream",
     "text": [
      "@Jags123456 Bharat band on 28??<ed><ed>Those who  are protesting #demonetization  are all different party leaders\n"
     ]
    }
   ],
   "source": [
    "#Question 28 Write a python program using RegEx to remove <U+..> like symbols\n",
    "#Check the below sample text, there are strange symbols something of the sort <U+..> all over the place. You need to come up with a general Regex expression that will cover all such symbols.\n",
    "#Sample Text: \"@Jags123456 Bharat band on 28??<ed><U+00A0><U+00BD><ed><U+00B8><U+0082>Those who  are protesting #demonetization  are all different party leaders\"\n",
    "#Expected Output: @Jags123456 Bharat band on 28??<ed><ed>Those who  are protesting #demonetization  are all different party leaders\n",
    "import re\n",
    "\n",
    "def remove_unicode_symbols(text):\n",
    "    pattern = r'<U\\+\\w+>'\n",
    "    cleaned_text = re.sub(pattern, '', text)\n",
    "    return cleaned_text\n",
    "\n",
    "sample_text = \"@Jags123456 Bharat band on 28??<ed><U+00A0><U+00BD><ed><U+00B8><U+0082>Those who  are protesting #demonetization  are all different party leaders\"\n",
    "cleaned_text = remove_unicode_symbols(sample_text)\n",
    "print(cleaned_text)"
   ]
  },
  {
   "cell_type": "code",
   "execution_count": 57,
   "id": "5f899b0a",
   "metadata": {},
   "outputs": [
    {
     "name": "stdout",
     "output_type": "stream",
     "text": [
      "Dates found in the text:\n",
      "12-09-1992\n",
      "15-12-1999\n"
     ]
    }
   ],
   "source": [
    "#Question 29 Write a python program to extract dates from the text stored in the text file.\n",
    "#Sample Text: Ron was born on 12-09-1992 and he was admitted to school 15-12-1999.\n",
    "#Note- Store this sample text in the file and then extract dates.\n",
    "import re\n",
    "\n",
    "sample_text = \"Ron was born on 12-09-1992 and he was admitted to school 15-12-1999.\"\n",
    "\n",
    "date_pattern = r'\\d{2}-\\d{2}-\\d{4}'  # Pattern to match dates in the format DD-MM-YYYY\n",
    "\n",
    "dates_found = re.findall(date_pattern, sample_text)\n",
    "\n",
    "print(\"Dates found in the text:\")\n",
    "for date in dates_found:\n",
    "    print(date)"
   ]
  },
  {
   "cell_type": "code",
   "execution_count": 58,
   "id": "c62f8cbe",
   "metadata": {},
   "outputs": [
    {
     "name": "stdout",
     "output_type": "stream",
     "text": [
      " following example creates  ArrayList  a capacity   elements. 4 elements   added   ArrayList   ArrayList  trimmed accordingly.\n"
     ]
    }
   ],
   "source": [
    "#Question 30 Create a function in python to remove all words from a string of length between 2 and 4.\n",
    "#The use of the re.compile() method is mandatory.\n",
    "#Sample Text: \"The following example creates an ArrayList with a capacity of 50 elements. 4 elements are then added to the ArrayList and the ArrayList is trimmed accordingly.\"\n",
    "#Expected Output:  following example creates ArrayList a capacity elements. 4 elements added ArrayList ArrayList trimmed accordingly.\n",
    "import re\n",
    "\n",
    "def remove_words_between_length(text):\n",
    "    pattern = re.compile(r'\\b\\w{2,4}\\b')\n",
    "    result = pattern.sub('', text)\n",
    "    return result\n",
    "\n",
    "sample_text = \"The following example creates an ArrayList with a capacity of 50 elements. 4 elements are then added to the ArrayList and the ArrayList is trimmed accordingly.\"\n",
    "cleaned_text = remove_words_between_length(sample_text)\n",
    "print(cleaned_text)"
   ]
  }
 ],
 "metadata": {
  "kernelspec": {
   "display_name": "Python 3 (ipykernel)",
   "language": "python",
   "name": "python3"
  },
  "language_info": {
   "codemirror_mode": {
    "name": "ipython",
    "version": 3
   },
   "file_extension": ".py",
   "mimetype": "text/x-python",
   "name": "python",
   "nbconvert_exporter": "python",
   "pygments_lexer": "ipython3",
   "version": "3.10.9"
  }
 },
 "nbformat": 4,
 "nbformat_minor": 5
}
