{
 "cells": [
  {
   "cell_type": "code",
   "execution_count": 22,
   "id": "3eba2c6c",
   "metadata": {},
   "outputs": [],
   "source": [
    "#Regular Expression Practice Questions\n",
    "import re"
   ]
  },
  {
   "cell_type": "code",
   "execution_count": 23,
   "id": "2dcdca40",
   "metadata": {},
   "outputs": [
    {
     "name": "stdout",
     "output_type": "stream",
     "text": [
      "'Hello123' contains only allowed characters.\n",
      "'abcXYZ456' contains only allowed characters.\n",
      "'Hello_World' contains disallowed characters.\n",
      "'123$%' contains disallowed characters.\n"
     ]
    }
   ],
   "source": [
    "#Question 1- Write a RegEx pattern in python program to check that a string contains only a certain set of characters(in this case a-z, A-Z and 0-9).\n",
    "def contains_only_allowed_characters(input_string):\n",
    "    pattern = r'^[a-zA-Z0-9]+$'\n",
    "    if re.match(pattern, input_string):\n",
    "        return True\n",
    "    else:\n",
    "        return False\n",
    "\n",
    "# Test cases\n",
    "test_strings = [\"Hello123\", \"abcXYZ456\", \"Hello_World\", \"123$%\"]\n",
    "for test_string in test_strings:\n",
    "    if contains_only_allowed_characters(test_string):\n",
    "        print(f\"'{test_string}' contains only allowed characters.\")\n",
    "    else:\n",
    "        print(f\"'{test_string}' contains disallowed characters.\")"
   ]
  },
  {
   "cell_type": "code",
   "execution_count": 24,
   "id": "2ba39165",
   "metadata": {},
   "outputs": [
    {
     "name": "stdout",
     "output_type": "stream",
     "text": [
      "'a' matches the pattern.\n",
      "'ab' matches the pattern.\n",
      "'abb' matches the pattern.\n",
      "'ac' matches the pattern.\n",
      "'ba' does not match the pattern.\n",
      "'abc' matches the pattern.\n"
     ]
    }
   ],
   "source": [
    "#Question 2- Write a RegEx pattern that matches a string that has an a followed by zero or more b's\n",
    "def match_pattern(input_string):\n",
    "    pattern = r'ab*'\n",
    "    if re.match(pattern, input_string):\n",
    "        return True\n",
    "    else:\n",
    "        return False\n",
    "\n",
    "# Test cases\n",
    "test_strings = [\"a\", \"ab\", \"abb\", \"ac\", \"ba\", \"abc\"]\n",
    "for test_string in test_strings:\n",
    "    if match_pattern(test_string):\n",
    "        print(f\"'{test_string}' matches the pattern.\")\n",
    "    else:\n",
    "        print(f\"'{test_string}' does not match the pattern.\")"
   ]
  },
  {
   "cell_type": "code",
   "execution_count": 25,
   "id": "7e0f2301",
   "metadata": {},
   "outputs": [
    {
     "name": "stdout",
     "output_type": "stream",
     "text": [
      "'a' does not match the pattern.\n",
      "'ab' matches the pattern.\n",
      "'abb' matches the pattern.\n",
      "'ac' does not match the pattern.\n",
      "'ba' does not match the pattern.\n",
      "'abc' matches the pattern.\n"
     ]
    }
   ],
   "source": [
    "#Question 3-  Write a RegEx pattern that matches a string that has an a followed by one or more b's\n",
    "def match_pattern(input_string):\n",
    "    pattern = r'ab+'\n",
    "    if re.match(pattern, input_string):\n",
    "        return True\n",
    "    else:\n",
    "        return False\n",
    "\n",
    "# Test cases\n",
    "test_strings = [\"a\", \"ab\", \"abb\", \"ac\", \"ba\", \"abc\"]\n",
    "for test_string in test_strings:\n",
    "    if match_pattern(test_string):\n",
    "        print(f\"'{test_string}' matches the pattern.\")\n",
    "    else:\n",
    "        print(f\"'{test_string}' does not match the pattern.\")"
   ]
  },
  {
   "cell_type": "code",
   "execution_count": 26,
   "id": "2e8dad6c",
   "metadata": {},
   "outputs": [
    {
     "name": "stdout",
     "output_type": "stream",
     "text": [
      "'a' matches the pattern.\n",
      "'ab' matches the pattern.\n",
      "'abb' matches the pattern.\n",
      "'ac' matches the pattern.\n",
      "'ba' does not match the pattern.\n",
      "'abc' matches the pattern.\n"
     ]
    }
   ],
   "source": [
    "#Question 4- Write a RegEx pattern that matches a string that has an a followed by zero or one 'b'.\n",
    "def match_pattern(input_string):\n",
    "    pattern = r'ab?'\n",
    "    if re.match(pattern, input_string):\n",
    "        return True\n",
    "    else:\n",
    "        return False\n",
    "\n",
    "# Test cases\n",
    "test_strings = [\"a\", \"ab\", \"abb\", \"ac\", \"ba\", \"abc\"]\n",
    "for test_string in test_strings:\n",
    "    if match_pattern(test_string):\n",
    "        print(f\"'{test_string}' matches the pattern.\")\n",
    "    else:\n",
    "        print(f\"'{test_string}' does not match the pattern.\")"
   ]
  },
  {
   "cell_type": "code",
   "execution_count": 27,
   "id": "16a75d5c",
   "metadata": {},
   "outputs": [
    {
     "name": "stdout",
     "output_type": "stream",
     "text": [
      "'abb' does not match the pattern.\n",
      "'abbb' matches the pattern.\n",
      "'abbbb' matches the pattern.\n",
      "'abc' does not match the pattern.\n",
      "'ab' does not match the pattern.\n",
      "'a' does not match the pattern.\n"
     ]
    }
   ],
   "source": [
    "#Question 5- Write a RegEx pattern in python program that matches a string that has an a followed by three 'b'.\n",
    "def match_pattern(input_string):\n",
    "    pattern = r'ab{3}'\n",
    "    if re.match(pattern, input_string):\n",
    "        return True\n",
    "    else:\n",
    "        return False\n",
    "\n",
    "# Test cases\n",
    "test_strings = [\"abb\", \"abbb\", \"abbbb\", \"abc\", \"ab\", \"a\"]\n",
    "for test_string in test_strings:\n",
    "    if match_pattern(test_string):\n",
    "        print(f\"'{test_string}' matches the pattern.\")\n",
    "    else:\n",
    "        print(f\"'{test_string}' does not match the pattern.\")"
   ]
  },
  {
   "cell_type": "code",
   "execution_count": 28,
   "id": "0e366df3",
   "metadata": {},
   "outputs": [
    {
     "name": "stdout",
     "output_type": "stream",
     "text": [
      "'abb' matches the pattern.\n",
      "'abbb' matches the pattern.\n",
      "'abbbb' matches the pattern.\n",
      "'abc' does not match the pattern.\n",
      "'ab' does not match the pattern.\n",
      "'a' does not match the pattern.\n"
     ]
    }
   ],
   "source": [
    "#Question 6- Write a RegEx pattern in python program that matches a string that has an a followed by two to three 'b'.\n",
    "def match_pattern(input_string):\n",
    "    pattern = r'ab{2,3}'\n",
    "    if re.match(pattern, input_string):\n",
    "        return True\n",
    "    else:\n",
    "        return False\n",
    "\n",
    "# Test cases\n",
    "test_strings = [\"abb\", \"abbb\", \"abbbb\", \"abc\", \"ab\", \"a\"]\n",
    "for test_string in test_strings:\n",
    "    if match_pattern(test_string):\n",
    "        print(f\"'{test_string}' matches the pattern.\")\n",
    "    else:\n",
    "        print(f\"'{test_string}' does not match the pattern.\")"
   ]
  },
  {
   "cell_type": "code",
   "execution_count": 29,
   "id": "0c0925c0",
   "metadata": {},
   "outputs": [
    {
     "name": "stdout",
     "output_type": "stream",
     "text": [
      "'abc' does not match the pattern.\n",
      "'a123b' matches the pattern.\n",
      "'a56789b' matches the pattern.\n",
      "'aXb' matches the pattern.\n",
      "'ab' matches the pattern.\n",
      "'abx' does not match the pattern.\n",
      "'a123b456' does not match the pattern.\n",
      "'ac' does not match the pattern.\n"
     ]
    }
   ],
   "source": [
    "#Question 7- Write a Python program that matches a string that has an 'a' followed by anything, ending in 'b'.\n",
    "def match_pattern(input_string):\n",
    "    pattern = r'a.*b$'\n",
    "    if re.match(pattern, input_string):\n",
    "        return True\n",
    "    else:\n",
    "        return False\n",
    "\n",
    "# Test cases\n",
    "test_strings = [\"abc\", \"a123b\", \"a56789b\", \"aXb\", \"ab\", \"abx\", \"a123b456\", \"ac\"]\n",
    "for test_string in test_strings:\n",
    "    if match_pattern(test_string):\n",
    "        print(f\"'{test_string}' matches the pattern.\")\n",
    "    else:\n",
    "        print(f\"'{test_string}' does not match the pattern.\")"
   ]
  },
  {
   "cell_type": "code",
   "execution_count": 30,
   "id": "00f8c0a7",
   "metadata": {},
   "outputs": [
    {
     "name": "stdout",
     "output_type": "stream",
     "text": [
      "'apple pie' starts with 'apple'.\n",
      "'banana split' does not start with 'apple'.\n",
      "'apple is delicious' starts with 'apple'.\n",
      "'banana is a fruit' does not start with 'apple'.\n"
     ]
    }
   ],
   "source": [
    "#Question 8- Write a RegEx pattern in python program that matches a word at the beginning of a string.\n",
    "def match_pattern(input_string, word):\n",
    "    pattern = fr'^{re.escape(word)}'\n",
    "    if re.match(pattern, input_string):\n",
    "        return True\n",
    "    else:\n",
    "        return False\n",
    "\n",
    "# Test cases\n",
    "test_strings = [\"apple pie\", \"banana split\", \"apple is delicious\", \"banana is a fruit\"]\n",
    "word_to_match = \"apple\"\n",
    "for test_string in test_strings:\n",
    "    if match_pattern(test_string, word_to_match):\n",
    "        print(f\"'{test_string}' starts with '{word_to_match}'.\")\n",
    "    else:\n",
    "        print(f\"'{test_string}' does not start with '{word_to_match}'.\")"
   ]
  },
  {
   "cell_type": "code",
   "execution_count": 31,
   "id": "88b4bd5e",
   "metadata": {},
   "outputs": [
    {
     "name": "stdout",
     "output_type": "stream",
     "text": [
      "'apple pie' does not end with 'apple'.\n",
      "'banana split' does not end with 'apple'.\n",
      "'delicious apple' ends with 'apple'.\n",
      "'a banana' does not end with 'apple'.\n"
     ]
    }
   ],
   "source": [
    "#Question 9- Write a RegEx pattern in python program that matches a word at the end of a string.\n",
    "def match_pattern(input_string, word):\n",
    "    pattern = fr'{re.escape(word)}$'\n",
    "    if re.search(pattern, input_string):\n",
    "        return True\n",
    "    else:\n",
    "        return False\n",
    "\n",
    "# Test cases\n",
    "test_strings = [\"apple pie\", \"banana split\", \"delicious apple\", \"a banana\"]\n",
    "word_to_match = \"apple\"\n",
    "for test_string in test_strings:\n",
    "    if match_pattern(test_string, word_to_match):\n",
    "        print(f\"'{test_string}' ends with '{word_to_match}'.\")\n",
    "    else:\n",
    "        print(f\"'{test_string}' does not end with '{word_to_match}'.\")"
   ]
  },
  {
   "cell_type": "code",
   "execution_count": 32,
   "id": "ff8e2f40",
   "metadata": {},
   "outputs": [
    {
     "name": "stdout",
     "output_type": "stream",
     "text": [
      "['0132', '1458', '2725']\n"
     ]
    }
   ],
   "source": [
    "#Question 10- Write a RegEx pattern in python program to find all words that are 4 digits long in a string.\n",
    "#Sample text- '01 0132 231875 1458 301 2725.'\n",
    "#Expected output- ['0132', '1458', '2725']\n",
    "def find_four_digit_words(input_text):\n",
    "    pattern = r'\\b\\d{4}\\b'\n",
    "    return re.findall(pattern, input_text)\n",
    "\n",
    "sample_text = '01 0132 231875 1458 301 2725.'\n",
    "result = find_four_digit_words(sample_text)\n",
    "print(result)"
   ]
  }
 ],
 "metadata": {
  "kernelspec": {
   "display_name": "Python 3 (ipykernel)",
   "language": "python",
   "name": "python3"
  },
  "language_info": {
   "codemirror_mode": {
    "name": "ipython",
    "version": 3
   },
   "file_extension": ".py",
   "mimetype": "text/x-python",
   "name": "python",
   "nbconvert_exporter": "python",
   "pygments_lexer": "ipython3",
   "version": "3.10.9"
  }
 },
 "nbformat": 4,
 "nbformat_minor": 5
}
